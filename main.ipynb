{
 "cells": [
  {
   "cell_type": "markdown",
   "metadata": {},
   "source": [
    "## Importing functions"
   ]
  },
  {
   "cell_type": "code",
   "execution_count": 125,
   "metadata": {},
   "outputs": [],
   "source": [
    "import os\n",
    "import pandas as pd\n",
    "import zipfile\n",
    "import geopandas as gpd\n",
    "from shapely.geometry import Point\n",
    "import matplotlib.pyplot as plt\n",
    "import numpy as np\n",
    "from rapidfuzz import fuzz, process\n"
   ]
  },
  {
   "cell_type": "markdown",
   "metadata": {},
   "source": [
    "# Functions to load the data"
   ]
  },
  {
   "cell_type": "code",
   "execution_count": 126,
   "metadata": {},
   "outputs": [],
   "source": [
    "data_folder = \"data\"\n",
    "\n",
    "# 1. Load bus routes data from CSV file\n",
    "def load_bus_routes_data():\n",
    "    bus_routes_path = os.path.join(data_folder, \"bus_routes_data.csv\")\n",
    "    if os.path.exists(bus_routes_path):\n",
    "        bus_routes_df = pd.read_csv(bus_routes_path)\n",
    "        return bus_routes_df\n",
    "    else:\n",
    "        print(f\"Error: {bus_routes_path} not found.\")\n",
    "        return None\n",
    "\n",
    "# 2. Load bus stops data from CSV file and convert to GeoDataFrame\n",
    "def load_bus_stops_data():\n",
    "    bus_stops_path = os.path.join(data_folder, \"bus_stops_data.csv\")\n",
    "    if os.path.exists(bus_stops_path):\n",
    "        bus_stops_df = pd.read_csv(bus_stops_path)\n",
    "        # Create a GeoDataFrame for bus stops with Point geometries from Longitude and Latitude\n",
    "        bus_stops_gdf = gpd.GeoDataFrame(\n",
    "            bus_stops_df,\n",
    "            geometry=gpd.points_from_xy(bus_stops_df['Longitude'], bus_stops_df['Latitude']),\n",
    "            crs='EPSG:4326'\n",
    "        )\n",
    "        print(\"Bus Stops Data Loaded and converted to GeoDataFrame.\")\n",
    "        return bus_stops_gdf\n",
    "    else:\n",
    "        print(f\"Error: {bus_stops_path} not found.\")\n",
    "        return None\n",
    "\n",
    "# 3. Load Passenger Volume by Bus Stops data from ZIP file\n",
    "def load_passenger_volume_bus_stops():\n",
    "    zip_path = os.path.join(data_folder, \"transport_node_bus_202408.zip\")\n",
    "    csv_file_name = \"transport_node_bus_202408.csv\"\n",
    "    if os.path.exists(zip_path):\n",
    "        with zipfile.ZipFile(zip_path, 'r') as z:\n",
    "            with z.open(csv_file_name) as csv_file:\n",
    "                passenger_volume_df = pd.read_csv(csv_file)\n",
    "                print(\"Passenger Volume by Bus Stops Data Loaded.\")\n",
    "                return passenger_volume_df\n",
    "    else:\n",
    "        print(f\"Error: {zip_path} not found.\")\n",
    "        return None\n",
    "\n",
    "# 4. Load Origin-Destination Bus Stops data from ZIP file\n",
    "def load_od_volume_bus_stops():\n",
    "    zip_path = os.path.join(data_folder, \"origin_destination_bus_202408.zip\")\n",
    "    csv_file_name = \"origin_destination_bus_202408.csv\"\n",
    "    if os.path.exists(zip_path):\n",
    "        with zipfile.ZipFile(zip_path, 'r') as z:\n",
    "            with z.open(csv_file_name) as csv_file:\n",
    "                od_volume_df = pd.read_csv(csv_file)\n",
    "                print(\"Origin-Destination Bus Stops Data Loaded.\")\n",
    "                return od_volume_df\n",
    "    else:\n",
    "        print(f\"Error: {zip_path} not found.\")\n",
    "        return None\n",
    "    \n",
    "# 5. Load MRT exits data from ZIP file\n",
    "def load_mrt_exits_shapefile():\n",
    "    zip_path = os.path.join('data', \"train_station_exit_geospatial_whole_island_202408.zip\")\n",
    "    shapefile_components = [\n",
    "        'TrainStationExit/Train_Station_Exit_Layer.shp',\n",
    "        'TrainStationExit/Train_Station_Exit_Layer.dbf',\n",
    "        'TrainStationExit/Train_Station_Exit_Layer.shx'\n",
    "    ]\n",
    "\n",
    "    if os.path.exists(zip_path):\n",
    "        with zipfile.ZipFile(zip_path, 'r') as zip_ref:\n",
    "                        \n",
    "            temp_dir = 'temp_shapefile'  # Temporary folder for extraction\n",
    "            os.makedirs(temp_dir, exist_ok=True)\n",
    "            \n",
    "            # Extract necessary shapefile components\n",
    "            for component in shapefile_components:\n",
    "                zip_ref.extract(component, path=temp_dir)\n",
    "\n",
    "            # Load the shapefile into a GeoDataFrame\n",
    "            shapefile_path = os.path.join(temp_dir, 'TrainStationExit', 'Train_Station_Exit_Layer.shp')\n",
    "            gdf_exits = gpd.read_file(shapefile_path)\n",
    "\n",
    "            # Clean up extracted files and temporary directory\n",
    "            for component in shapefile_components:\n",
    "                os.remove(os.path.join(temp_dir, component))\n",
    "            \n",
    "            # Remove the empty directory\n",
    "            try:\n",
    "                os.rmdir(os.path.join(temp_dir, 'TrainStationExit'))\n",
    "                os.rmdir(temp_dir)\n",
    "            except OSError as e:\n",
    "                print(f\"Warning: {e.strerror} - {e.filename}\")\n",
    "            \n",
    "            print(\"MRT Exits data loaded.\")\n",
    "            \n",
    "            # Display the columns (fields) and first few rows in the shapefile\n",
    "            print(\"Columns in MRT Exits Shapefile:\")\n",
    "            print(gdf_exits.columns)\n",
    "            print(\"\\nFirst 5 rows of data:\")\n",
    "            print(gdf_exits.head())\n",
    "            \n",
    "            return gdf_exits\n",
    "    else:\n",
    "        print(f\"Error: {zip_path} not found.\")\n",
    "        return None\n",
    "    \n",
    "# 6. Load mrtlines data\n",
    "def load_mrt_lines_mapping():\n",
    "    mrt_lines_path = os.path.join(data_folder, \"singapore_mrt_stations_with_lines_filtered.csv\")\n",
    "    if os.path.exists(mrt_lines_path):\n",
    "        mrt_lines_df = pd.read_csv(mrt_lines_path)\n",
    "        return mrt_lines_df\n",
    "    else:\n",
    "        print(f\"Error: {mrt_lines_path} not found.\")\n",
    "    "
   ]
  },
  {
   "cell_type": "markdown",
   "metadata": {},
   "source": [
    "## Loading the Data"
   ]
  },
  {
   "cell_type": "code",
   "execution_count": 127,
   "metadata": {},
   "outputs": [
    {
     "name": "stdout",
     "output_type": "stream",
     "text": [
      "Bus Stops Data Loaded and converted to GeoDataFrame.\n",
      "Passenger Volume by Bus Stops Data Loaded.\n",
      "Origin-Destination Bus Stops Data Loaded.\n",
      "MRT Exits data loaded.\n",
      "Columns in MRT Exits Shapefile:\n",
      "Index(['stn_name', 'exit_code', 'geometry'], dtype='object')\n",
      "\n",
      "First 5 rows of data:\n",
      "                 stn_name exit_code                     geometry\n",
      "0  MACPHERSON MRT STATION    Exit A  POINT (34285.068 34322.985)\n",
      "1  MACPHERSON MRT STATION    Exit B  POINT (34382.153 34231.904)\n",
      "2  MACPHERSON MRT STATION    Exit C  POINT (34337.292 34190.603)\n",
      "3    TONGKANG LRT STATION    Exit B  POINT (33872.145 41256.053)\n",
      "4    TONGKANG LRT STATION    Exit A  POINT (33858.542 41234.065)\n",
      "Bus Routes DataFrame shape: (25500, 12)\n",
      "Bus Stops GeoDataFrame shape: (5137, 6)\n",
      "Passenger Volume DataFrame shape: (199800, 7)\n",
      "Origin-Destination Bus Stops DataFrame shape: (5760081, 7)\n",
      "MRT Exits GeoDataFrame shape: (593, 3)\n",
      "MRT Lines Mapping DataFrame shape: (186, 10)\n"
     ]
    }
   ],
   "source": [
    "# Load datasets\n",
    "bus_routes_df = load_bus_routes_data()\n",
    "bus_stops_gdf = load_bus_stops_data()\n",
    "passenger_volume_df = load_passenger_volume_bus_stops()\n",
    "od_volume_df = load_od_volume_bus_stops()\n",
    "mrt_exits_gdf = load_mrt_exits_shapefile()\n",
    "mrt_lines_mapping = load_mrt_lines_mapping()\n",
    "\n",
    "# Ensure that the data is being loaded correctly\n",
    "if bus_routes_df is not None:\n",
    "    print(f\"Bus Routes DataFrame shape: {bus_routes_df.shape}\")\n",
    "if bus_stops_gdf is not None:\n",
    "    print(f\"Bus Stops GeoDataFrame shape: {bus_stops_gdf.shape}\")\n",
    "if passenger_volume_df is not None:\n",
    "    print(f\"Passenger Volume DataFrame shape: {passenger_volume_df.shape}\")\n",
    "if od_volume_df is not None:\n",
    "    print(f\"Origin-Destination Bus Stops DataFrame shape: {od_volume_df.shape}\")\n",
    "if mrt_exits_gdf is not None:\n",
    "    print(f\"MRT Exits GeoDataFrame shape: {mrt_exits_gdf.shape}\")\n",
    "if mrt_lines_mapping is not None:\n",
    "    print(f\"MRT Lines Mapping DataFrame shape: {mrt_lines_mapping.shape}\")\n"
   ]
  },
  {
   "cell_type": "markdown",
   "metadata": {},
   "source": [
    "## Tagging bus stops to MRT Exit\n",
    "We need to identify the bus stops that are linked to the MRT exits. There are 2 main ways to approach this:\n",
    "1. String matching based on description\n",
    "   1. We attempted this method and found that while it worked for most of the stations, it still caught on to alot of false positives. One false positive example is 'Carltex Stn', which is not a train station.\n",
    "2. Distance matching based on MRT exits"
   ]
  },
  {
   "cell_type": "markdown",
   "metadata": {},
   "source": [
    "## Tagging MRT Exits to MRT Stations\n",
    "We will now determine which MRT station and MRT line does each exit belong to. We need to note that they may not always contain the exact match of the MRT station name. So we will use a fuzzy matching approach to find the closest match"
   ]
  },
  {
   "cell_type": "markdown",
   "metadata": {},
   "source": [
    "Filter out the words MRT Station\n",
    "If there is LRT, also filter out the whole thing"
   ]
  },
  {
   "cell_type": "code",
   "execution_count": 128,
   "metadata": {},
   "outputs": [
    {
     "name": "stdout",
     "output_type": "stream",
     "text": [
      "                 stn_name exit_code                     geometry  \\\n",
      "0  MACPHERSON MRT STATION    Exit A  POINT (34285.068 34322.985)   \n",
      "1  MACPHERSON MRT STATION    Exit A  POINT (34285.068 34322.985)   \n",
      "2  MACPHERSON MRT STATION    Exit B  POINT (34382.153 34231.904)   \n",
      "3  MACPHERSON MRT STATION    Exit B  POINT (34382.153 34231.904)   \n",
      "4  MACPHERSON MRT STATION    Exit C  POINT (34337.292 34190.603)   \n",
      "\n",
      "  stn_name_matched Station name_English • Malay  NS  EW  DT  CC  NE  TE  CG  \\\n",
      "0       macpherson                   macpherson   0   0   1   1   0   0   0   \n",
      "1       macpherson                   macpherson   0   0   1   1   0   0   0   \n",
      "2       macpherson                   macpherson   0   0   1   1   0   0   0   \n",
      "3       macpherson                   macpherson   0   0   1   1   0   0   0   \n",
      "4       macpherson                   macpherson   0   0   1   1   0   0   0   \n",
      "\n",
      "   CE  \n",
      "0   0  \n",
      "1   0  \n",
      "2   0  \n",
      "3   0  \n",
      "4   0  \n"
     ]
    },
    {
     "name": "stderr",
     "output_type": "stream",
     "text": [
      "/Users/zhanheng/Public/github/project/.venv/lib/python3.12/site-packages/geopandas/geodataframe.py:1819: SettingWithCopyWarning: \n",
      "A value is trying to be set on a copy of a slice from a DataFrame.\n",
      "Try using .loc[row_indexer,col_indexer] = value instead\n",
      "\n",
      "See the caveats in the documentation: https://pandas.pydata.org/pandas-docs/stable/user_guide/indexing.html#returning-a-view-versus-a-copy\n",
      "  super().__setitem__(key, value)\n",
      "/Users/zhanheng/Public/github/project/.venv/lib/python3.12/site-packages/geopandas/geodataframe.py:1819: SettingWithCopyWarning: \n",
      "A value is trying to be set on a copy of a slice from a DataFrame.\n",
      "Try using .loc[row_indexer,col_indexer] = value instead\n",
      "\n",
      "See the caveats in the documentation: https://pandas.pydata.org/pandas-docs/stable/user_guide/indexing.html#returning-a-view-versus-a-copy\n",
      "  super().__setitem__(key, value)\n"
     ]
    }
   ],
   "source": [
    "# Function to filter out \"LRT\", remove \"MRT STATION\", fuzzy match, and join MRT lines, then drop unwanted columns\n",
    "def match_mrt_line_to_exits(mrt_lines_mapping, mrt_exits_gdf, threshold=50):\n",
    "    # Step 1: Filter out rows containing \"LRT\" in the station name\n",
    "    mrt_exits_gdf = mrt_exits_gdf[~mrt_exits_gdf['stn_name'].str.contains('LRT', case=False)]\n",
    "    \n",
    "    # Step 2: Remove \"MRT STATION\" from 'stn_name' before matching\n",
    "    mrt_exits_gdf['stn_name_cleaned'] = mrt_exits_gdf['stn_name'].str.replace('MRT STATION', '', case=False).str.strip()\n",
    "\n",
    "    # Step 3: Perform fuzzy matching and create a new column for the best matched station name\n",
    "    # Get the MRT station names in lowercase for case-insensitive matching\n",
    "    mrt_station_names = mrt_lines_mapping['Station name_English • Malay'].str.lower().tolist()\n",
    "    \n",
    "    matched_station_names = []  # List to store matched station names\n",
    "\n",
    "    for idx, row in mrt_exits_gdf.iterrows():\n",
    "        exit_description = row['stn_name_cleaned'].lower()  # Lowercase the cleaned station name for case-insensitive matching\n",
    "        \n",
    "        # Perform fuzzy matching to find the closest MRT station name\n",
    "        match_result = process.extractOne(exit_description, mrt_station_names, scorer=fuzz.token_sort_ratio)\n",
    "        \n",
    "        if match_result:\n",
    "            match, score, _ = match_result\n",
    "            if score >= threshold:\n",
    "                matched_station_names.append(match)\n",
    "            else:\n",
    "                matched_station_names.append(None)\n",
    "        else:\n",
    "            matched_station_names.append(None)\n",
    "    \n",
    "    # Add the matched station names to the GeoDataFrame as a new column\n",
    "    mrt_exits_gdf['stn_name_matched'] = matched_station_names\n",
    "    \n",
    "    # Step 4: Perform a left join to the MRT lines mapping DataFrame\n",
    "    # Standardize the MRT station names to lowercase for the merge\n",
    "    mrt_lines_mapping['Station name_English • Malay'] = mrt_lines_mapping['Station name_English • Malay'].str.lower()\n",
    "\n",
    "    # Left join based on the matched station names\n",
    "    mrt_exits_gdf = mrt_exits_gdf.merge(mrt_lines_mapping, \n",
    "                                        left_on='stn_name_matched', \n",
    "                                        right_on='Station name_English • Malay', \n",
    "                                        how='left')\n",
    "\n",
    "    # Step 5: Drop the unnecessary columns\n",
    "    cols_to_drop = ['Matched_MRT_Line', 'stn_name_cleaned', 'MRT_Lines']\n",
    "    mrt_exits_gdf.drop(columns=cols_to_drop, inplace=True, errors='ignore')\n",
    "\n",
    "    return mrt_exits_gdf\n",
    "\n",
    "# Example of calling the function\n",
    "mrt_exits_gdf_mapped = match_mrt_line_to_exits(mrt_lines_mapping, mrt_exits_gdf)\n",
    "\n",
    "# Display the updated DataFrame\n",
    "print(mrt_exits_gdf_mapped.head())\n"
   ]
  },
  {
   "cell_type": "markdown",
   "metadata": {},
   "source": [
    "### Optimal Distance\n",
    "In reality, we believe that bus stops less than 1 MRT distance away from MRT stations are considered MRT Bus Stops. \n",
    "\n",
    "So to find the optimal distance, we check the bus routes to find the average distance between two bus stops, excluding the outliers."
   ]
  },
  {
   "cell_type": "code",
   "execution_count": 129,
   "metadata": {},
   "outputs": [
    {
     "name": "stdout",
     "output_type": "stream",
     "text": [
      "  ServiceNo  Direction  MeanDistanceBetweenStops\n",
      "0        10          1                432.876712\n",
      "1        10          2                436.986301\n",
      "2       100          1                441.071429\n",
      "3       100          2                439.622642\n",
      "4      100A          1                400.000000\n"
     ]
    },
    {
     "data": {
      "image/png": "[encoded data removed]",
      "text/plain": [
       "<Figure size 640x480 with 1 Axes>"
      ]
     },
     "metadata": {},
     "output_type": "display_data"
    },
    {
     "name": "stdout",
     "output_type": "stream",
     "text": [
      "Some outliers:\n",
      "    ServiceNo  Direction  MeanDistanceBetweenStops   z_score\n",
      "572      858B          1               3670.000000  9.367749\n",
      "466       661          2               2245.454545  5.087032\n",
      "465       661          1               2150.000000  4.800194\n",
      "449       651          2               1976.923077  4.280103\n",
      "407       513          1               1930.769231  4.141412\n",
      "Number of outliers: 21\n"
     ]
    }
   ],
   "source": [
    "# Step 1: Sort by ServiceNo, Direction, and StopSequence to ensure the order is correct\n",
    "bus_routes_df_sorted = bus_routes_df.sort_values(by=['ServiceNo', 'Direction', 'StopSequence'])\n",
    "\n",
    "# Step 2: Calculate the difference in Distance between consecutive stops for each ServiceNo and Direction\n",
    "bus_routes_df_sorted['DistanceBetweenStops'] = bus_routes_df_sorted.groupby(['ServiceNo', 'Direction'])['Distance'].diff()\n",
    "\n",
    "# Step 3: Calculate the mean distance between stops for each bus route (ServiceNo and Direction)\n",
    "mean_distance_between_stops = bus_routes_df_sorted.groupby(['ServiceNo', 'Direction'])['DistanceBetweenStops'].mean().reset_index()\n",
    "\n",
    "# Rename the column for clarity\n",
    "mean_distance_between_stops.rename(columns={'DistanceBetweenStops': 'MeanDistanceBetweenStops'}, inplace=True)\n",
    "\n",
    "mean_distance_between_stops['MeanDistanceBetweenStops'] = mean_distance_between_stops['MeanDistanceBetweenStops'] * 1000\n",
    "\n",
    "# Display the result\n",
    "print(mean_distance_between_stops.head())\n",
    "\n",
    "# Examine the outliers\n",
    "mean_distance_between_stops['MeanDistanceBetweenStops'].plot(kind='box')\n",
    "plt.title('Mean Distance Between Stops')\n",
    "plt.ylabel('Distance (m)')\n",
    "plt.show()\n",
    "\n",
    "# Put the outliers in a df, using z-score\n",
    "mean_distance_between_stops['z_score'] = np.abs((mean_distance_between_stops['MeanDistanceBetweenStops'] - mean_distance_between_stops['MeanDistanceBetweenStops'].mean()) / mean_distance_between_stops['MeanDistanceBetweenStops'].std())\n",
    "outliers = mean_distance_between_stops[mean_distance_between_stops['z_score'] > 3]\n",
    "outliers = outliers.sort_values(by='MeanDistanceBetweenStops', ascending=False)\n",
    "print(\"Some outliers:\")\n",
    "print(outliers.head())\n",
    "print(\"Number of outliers:\", outliers.shape[0])\n"
   ]
  },
  {
   "cell_type": "markdown",
   "metadata": {},
   "source": [
    "From the data above, we can see that most of the buses that have a relatively long distance are those with express services (those that travel the expressway). So to handle these data, we will just filter out the outliers."
   ]
  },
  {
   "cell_type": "code",
   "execution_count": 130,
   "metadata": {},
   "outputs": [
    {
     "name": "stdout",
     "output_type": "stream",
     "text": [
      "Mean Distance between stops after filtering: 512.75 m\n"
     ]
    }
   ],
   "source": [
    "#Filter out the outliers based on the boxplot\n",
    "mean_distance_between_stops_filtered = mean_distance_between_stops[mean_distance_between_stops['z_score'] <= 3]\n",
    "true_mean_distance = mean_distance_between_stops_filtered['MeanDistanceBetweenStops'].mean()\n",
    "print(f\"Mean Distance between stops after filtering: {true_mean_distance:.2f} m\")\n"
   ]
  },
  {
   "cell_type": "markdown",
   "metadata": {},
   "source": [
    "Using the optimal distance found, we can assume that bus stops within 1 MRT station can be tagged as a MRT bus stop. So presumably, if the bus stop is ~500m away from the MRT, technically we can assume that it is sufficiently close to walk to a MRT station."
   ]
  },
  {
   "cell_type": "code",
   "execution_count": 143,
   "metadata": {},
   "outputs": [
    {
     "name": "stdout",
     "output_type": "stream",
     "text": [
      "       BusStopCode     RoadName              Description  Latitude  \\\n",
      "277.0         1059  Victoria St         Bugis Stn Exit B  1.300757   \n",
      "271.0         1112  Victoria St     Opp Bugis Stn Exit C  1.300092   \n",
      "279.0         1113  Victoria St         Bugis Stn Exit A  1.301173   \n",
      "344.0         1319   Kallang Rd  Lavender Stn Exit A/ICA  1.307574   \n",
      "472.0         1541    Rochor Rd         Bugis Stn Exit D  1.298865   \n",
      "\n",
      "        Longitude                   geometry  is_mrt stn_name_matched   NS  \\\n",
      "277.0  103.856110  POINT (103.85611 1.30076)    True            bugis  0.0   \n",
      "271.0  103.855200   POINT (103.8552 1.30009)    True            bugis  0.0   \n",
      "279.0  103.856114  POINT (103.85611 1.30117)    True            bugis  0.0   \n",
      "344.0  103.863256  POINT (103.86326 1.30757)    True         lavender  0.0   \n",
      "472.0  103.857346  POINT (103.85735 1.29886)    True            bugis  0.0   \n",
      "\n",
      "        EW   DT   CC   NE   TE   CG   CE  index_right   distance  \n",
      "277.0  1.0  1.0  0.0  0.0  0.0  0.0  0.0            5  25.341418  \n",
      "271.0  1.0  1.0  0.0  0.0  0.0  0.0  0.0            7  54.864321  \n",
      "279.0  1.0  1.0  0.0  0.0  0.0  0.0  0.0            8  21.424779  \n",
      "344.0  1.0  0.0  0.0  0.0  0.0  0.0  0.0           19  50.925420  \n",
      "472.0  1.0  1.0  0.0  0.0  0.0  0.0  0.0           32  56.002992  \n"
     ]
    }
   ],
   "source": [
    "# Function to tag bus stops with MRT proximity and include MRT line indicators\n",
    "def tagging_mrt_to_bus_stops(y, x, distance=true_mean_distance):\n",
    "    # Set CRS if not already defined\n",
    "    if y.crs is None:\n",
    "        y = y.set_crs(epsg=3414)  # Use SVY21 (Singapore)\n",
    "    if x.crs is None:\n",
    "        x = x.set_crs(epsg=3414)  # WGS84 for bus stops\n",
    "\n",
    "    # Re-project MRT exits to EPSG:4326 (WGS84) to match bus stops\n",
    "    y = y.to_crs(epsg=3414)\n",
    "\n",
    "    # Project both GeoDataFrames to a projected CRS for distance calculation (meters)\n",
    "    projected_crs = \"EPSG:3857\"  # Mercator projection in meters\n",
    "    y_projected = y.to_crs(projected_crs)\n",
    "    x_projected = x.to_crs(projected_crs)\n",
    "\n",
    "    # Perform a spatial join to find the nearest bus stop for each MRT exit\n",
    "    nearest_bus_stops = gpd.sjoin_nearest(\n",
    "        y_projected, \n",
    "        x_projected, \n",
    "        how=\"left\", \n",
    "        distance_col=\"distance\"  # Create a column for the distance between the points\n",
    "    )\n",
    "    \n",
    "    # Filter based on the specified distance to ensure we're tagging bus stops correctly\n",
    "    nearest_bus_stops_filtered = nearest_bus_stops[nearest_bus_stops['distance'] <= distance]\n",
    "\n",
    "    # Tag bus stops that are within the specified distance as MRT-related\n",
    "    x['is_mrt'] = x_projected.index.isin(nearest_bus_stops_filtered['index_right'])\n",
    "\n",
    "    # Perform a normal left merge to bring in MRT line information and matched MRT station\n",
    "    # We use `BusStopCode` and `index_right` to perform the merge\n",
    "    merged = x.merge(nearest_bus_stops_filtered[['stn_name_matched', 'NS', 'EW', 'DT', 'CC', 'NE', 'TE', 'CG', 'CE', 'index_right', 'distance']],\n",
    "                     left_index=True, right_on='index_right', \n",
    "                     how='left')\n",
    "\n",
    "    # Rename geometry columns\n",
    "    merged = merged.rename(columns={\n",
    "        'geometry_x': 'geometry_bus',\n",
    "        'geometry_y': 'geometry_mrt'\n",
    "    })\n",
    "    \n",
    "    # Filter out duplicate BusStopCode entries\n",
    "    merged = merged.drop_duplicates(subset='BusStopCode')\n",
    "\n",
    "    return merged\n",
    "\n",
    "# Call the function with the MRT exits and bus stops GeoDataFrames\n",
    "tagging = tagging_mrt_to_bus_stops(mrt_exits_gdf_mapped, bus_stops_gdf, true_mean_distance)\n",
    "\n",
    "# Filter only the MRT-related bus stops\n",
    "bus_stops_mrt = tagging[tagging['is_mrt'] == True]\n",
    "\n",
    "print(bus_stops_mrt.head())\n",
    "bus_stops_mrt\n"
   ]
  },
  {
   "cell_type": "markdown",
   "metadata": {},
   "source": [
    "### Checking MRT stops\n",
    "Just for future debugging, ensuring that our works are correct"
   ]
  },
  {
   "cell_type": "code",
   "execution_count": 144,
   "metadata": {},
   "outputs": [
    {
     "data": {
      "image/png": "[encoded data removed]",
      "text/plain": [
       "<Figure size 1200x1200 with 1 Axes>"
      ]
     },
     "metadata": {},
     "output_type": "display_data"
    }
   ],
   "source": [
    "bus_stops_mrt = tagging[tagging['is_mrt'] == True]\n",
    "# Plot the bus stops and MRT exits\n",
    "fig, ax = plt.subplots(figsize=(12, 12))\n",
    "bus_stops_mrt.plot(ax=ax, color='blue', label='Bus Stops')\n",
    "mrt_exits_gdf_mapped.plot(ax=ax, color='red', label='MRT Exits')\n",
    "plt.title('Bus Stops and MRT Exits in Singapore')\n",
    "plt.legend()\n",
    "plt.show()"
   ]
  }
 ],
 "metadata": {
  "kernelspec": {
   "display_name": ".venv",
   "language": "python",
   "name": "python3"
  },
  "language_info": {
   "codemirror_mode": {
    "name": "ipython",
    "version": 3
   },
   "file_extension": ".py",
   "mimetype": "text/x-python",
   "name": "python",
   "nbconvert_exporter": "python",
   "pygments_lexer": "ipython3",
   "version": "3.12.3"
  }
 },
 "nbformat": 4,
 "nbformat_minor": 2
}
