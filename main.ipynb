{
 "cells": [
  {
   "cell_type": "markdown",
   "metadata": {},
   "source": [
    "## Importing functions"
   ]
  },
  {
   "cell_type": "code",
   "execution_count": 22,
   "metadata": {},
   "outputs": [],
   "source": [
    "import os\n",
    "import pandas as pd\n",
    "import zipfile\n"
   ]
  },
  {
   "cell_type": "markdown",
   "metadata": {},
   "source": [
    "## Loading the bus routes from data"
   ]
  },
  {
   "cell_type": "code",
   "execution_count": 23,
   "metadata": {},
   "outputs": [],
   "source": [
    "data_folder = \"data\"\n",
    "\n",
    "# 1. Load bus routes data from CSV file\n",
    "def load_bus_routes_data():\n",
    "    bus_routes_path = os.path.join(data_folder, \"bus_routes_data.csv\")\n",
    "    if os.path.exists(bus_routes_path):\n",
    "        bus_routes_df = pd.read_csv(bus_routes_path)  # Use read_csv\n",
    "        print(\"Bus Routes Data Loaded:\")\n",
    "        return bus_routes_df\n",
    "    else:\n",
    "        print(f\"Error: {bus_routes_path} not found.\")\n",
    "        return None\n",
    "\n",
    "# 2. Load bus stops data from CSV file\n",
    "def load_bus_stops_data():\n",
    "    bus_stops_path = os.path.join(data_folder, \"bus_stops_data.csv\")\n",
    "    if os.path.exists(bus_stops_path):\n",
    "        bus_stops_df = pd.read_csv(bus_stops_path)  # Use read_csv\n",
    "        print(\"Bus Stops Data Loaded:\")\n",
    "        return bus_stops_df\n",
    "    else:\n",
    "        print(f\"Error: {bus_stops_path} not found.\")\n",
    "        return None\n",
    "\n",
    "# 3. Load Passenger Volume by Bus Stops data from ZIP file\n",
    "def load_passenger_volume_bus_stops():\n",
    "    zip_path = os.path.join(data_folder, \"transport_node_bus_202408.zip\")\n",
    "    csv_file_name = \"transport_node_bus_202408.csv\"\n",
    "    if os.path.exists(zip_path):\n",
    "        with zipfile.ZipFile(zip_path, 'r') as z:\n",
    "            with z.open(csv_file_name) as csv_file:\n",
    "                passenger_volume_df = pd.read_csv(csv_file)\n",
    "                print(\"Passenger Volume by Bus Stops Data Loaded:\")\n",
    "                return passenger_volume_df\n",
    "    else:\n",
    "        print(f\"Error: {zip_path} not found.\")\n",
    "        return None\n",
    "\n",
    "# 4. Load Origin-Destination Bus Stops data from ZIP file\n",
    "def load_od_volume_bus_stops():\n",
    "    zip_path = os.path.join(data_folder, \"origin_destination_bus_202408.zip\")\n",
    "    csv_file_name = \"origin_destination_bus_202408.csv\"\n",
    "    if os.path.exists(zip_path):\n",
    "        with zipfile.ZipFile(zip_path, 'r') as z:\n",
    "            with z.open(csv_file_name) as csv_file:\n",
    "                od_volume_df = pd.read_csv(csv_file)\n",
    "                print(\"Origin-Destination Bus Stops Data Loaded:\")\n",
    "                return od_volume_df\n",
    "    else:\n",
    "        print(f\"Error: {zip_path} not found.\")\n",
    "        return None\n"
   ]
  },
  {
   "cell_type": "markdown",
   "metadata": {},
   "source": [
    "## Call the data to make it run"
   ]
  },
  {
   "cell_type": "code",
   "execution_count": 24,
   "metadata": {},
   "outputs": [
    {
     "name": "stdout",
     "output_type": "stream",
     "text": [
      "Loading data files from the 'data' folder...\n",
      "\n",
      "Bus Routes Data Loaded:\n",
      "Bus Stops Data Loaded:\n",
      "Passenger Volume by Bus Stops Data Loaded:\n",
      "Origin-Destination Bus Stops Data Loaded:\n",
      "Bus Routes DataFrame shape: (25500, 12)\n",
      "Bus Stops DataFrame shape: (5137, 5)\n",
      "Passenger Volume DataFrame shape: (199800, 7)\n",
      "OD Bus Stops DataFrame shape: (5760081, 7)\n"
     ]
    }
   ],
   "source": [
    "print(\"Loading data files from the 'data' folder...\\n\")\n",
    "    \n",
    "# Load Bus Routes Data into bus_routes_df\n",
    "bus_routes_df = load_bus_routes_data()\n",
    "\n",
    "# Load Bus Stops Data into bus_stops_df\n",
    "bus_stops_df = load_bus_stops_data()\n",
    "\n",
    "# Load Passenger Volume by Bus Stops Data into passenger_volume_df\n",
    "passenger_volume_df = load_passenger_volume_bus_stops()\n",
    "\n",
    "# Load Origin-Destination Bus Stops Data into od_volume_df\n",
    "od_volume_df = load_od_volume_bus_stops()\n",
    "\n",
    "# You can now use these DataFrames for further processing\n",
    "if bus_routes_df is not None:\n",
    "    print(f\"Bus Routes DataFrame shape: {bus_routes_df.shape}\")\n",
    "if bus_stops_df is not None:\n",
    "    print(f\"Bus Stops DataFrame shape: {bus_stops_df.shape}\")\n",
    "if passenger_volume_df is not None:\n",
    "    print(f\"Passenger Volume DataFrame shape: {passenger_volume_df.shape}\")\n",
    "if od_volume_df is not None:\n",
    "    print(f\"OD Bus Stops DataFrame shape: {od_volume_df.shape}\")"
   ]
  },
  {
   "cell_type": "markdown",
   "metadata": {},
   "source": [
    "## Examine the head of the data"
   ]
  },
  {
   "cell_type": "code",
   "execution_count": 25,
   "metadata": {},
   "outputs": [
    {
     "name": "stdout",
     "output_type": "stream",
     "text": [
      "\n",
      "Data Samples:\n",
      "Bus Routes Data:\n",
      "  ServiceNo Operator  Direction  StopSequence  BusStopCode  Distance  \\\n",
      "0        10     SBST          1             1        75009       0.0   \n",
      "1        10     SBST          1             2        76059       0.6   \n",
      "2        10     SBST          1             3        76069       1.1   \n",
      "3        10     SBST          1             4        96289       2.3   \n",
      "4        10     SBST          1             5        96109       2.7   \n",
      "\n",
      "  WD_FirstBus WD_LastBus SAT_FirstBus SAT_LastBus SUN_FirstBus SUN_LastBus  \n",
      "0        0500       2300         0500        2300         0500        2300  \n",
      "1        0502       2302         0502        2302         0502        2302  \n",
      "2        0504       2304         0504        2304         0503        2304  \n",
      "3        0508       2308         0508        2309         0507        2308  \n",
      "4        0509       2310         0509        2311         0508        2309  \n",
      "Total Bus Routes: 25500\n",
      "Bus Stops Data:\n",
      "   BusStopCode       RoadName          Description  Latitude   Longitude\n",
      "0         1012    Victoria St  Hotel Grand Pacific  1.296848  103.852536\n",
      "1         1013    Victoria St      St. Joseph's Ch  1.297710  103.853225\n",
      "2         1019    Victoria St      Bras Basah Cplx  1.296990  103.853022\n",
      "3         1029  Nth Bridge Rd         Opp Natl Lib  1.296673  103.854414\n",
      "4         1039  Nth Bridge Rd           Bugis Cube  1.298208  103.855491\n",
      "Total Bus Stops: 5137\n",
      "Passenger Volume by Bus Stops Data:\n",
      "  YEAR_MONTH          DAY_TYPE  TIME_PER_HOUR PT_TYPE  PT_CODE  \\\n",
      "0    2024-08  WEEKENDS/HOLIDAY           18.0     BUS    68099   \n",
      "1    2024-08           WEEKDAY           18.0     BUS    63281   \n",
      "2    2024-08  WEEKENDS/HOLIDAY           14.0     BUS    11071   \n",
      "3    2024-08  WEEKENDS/HOLIDAY           10.0     BUS    50249   \n",
      "4    2024-08  WEEKENDS/HOLIDAY           15.0     BUS    67389   \n",
      "\n",
      "   TOTAL_TAP_IN_VOLUME  TOTAL_TAP_OUT_VOLUME  \n",
      "0                   84                   145  \n",
      "1                 1943                  2183  \n",
      "2                  564                   535  \n",
      "3                  286                   237  \n",
      "4                  282                   956  \n",
      "Origin-Destination Bus Stops Data:\n",
      "  YEAR_MONTH          DAY_TYPE  TIME_PER_HOUR PT_TYPE  ORIGIN_PT_CODE  \\\n",
      "0    2024-08  WEEKENDS/HOLIDAY             18     BUS           76201   \n",
      "1    2024-08  WEEKENDS/HOLIDAY              7     BUS           10351   \n",
      "2    2024-08  WEEKENDS/HOLIDAY             19     BUS           76061   \n",
      "3    2024-08  WEEKENDS/HOLIDAY              9     BUS           14271   \n",
      "4    2024-08           WEEKDAY              5     BUS           54581   \n",
      "\n",
      "   DESTINATION_PT_CODE  TOTAL_TRIPS  \n",
      "0                76079            6  \n",
      "1                13201            7  \n",
      "2                75371            1  \n",
      "3                 7021            2  \n",
      "4                66471            1  \n"
     ]
    }
   ],
   "source": [
    "print(\"\\nData Samples:\")\n",
    "print(\"Bus Routes Data:\")\n",
    "print(bus_routes_df.head())\n",
    "total_bus_routes = bus_routes_df.shape[0]\n",
    "print(f\"Total Bus Routes: {total_bus_routes}\")\n",
    "print(\"Bus Stops Data:\")\n",
    "print(bus_stops_df.head())\n",
    "total_bus_stops = bus_stops_df.shape[0]\n",
    "print(f\"Total Bus Stops: {total_bus_stops}\")\n",
    "print(\"Passenger Volume by Bus Stops Data:\")\n",
    "print(passenger_volume_df.head())\n",
    "print(\"Origin-Destination Bus Stops Data:\")\n",
    "print(od_volume_df.head())"
   ]
  },
  {
   "cell_type": "markdown",
   "metadata": {},
   "source": [
    "## Tagging bus stops\n",
    "We noticed that if the bus stop contains the word \"Stn\", it is usually linked to an MRT, so we will take a look and tag it accordingly"
   ]
  },
  {
   "cell_type": "code",
   "execution_count": 29,
   "metadata": {},
   "outputs": [
    {
     "name": "stdout",
     "output_type": "stream",
     "text": [
      "Number of Bus Stops linked to MRT stations: 8\n",
      "Percentage of Bus Stops linked to MRT stations: 0.16%\n"
     ]
    }
   ],
   "source": [
    "bus_stops_df[\"is_mrt\"] = bus_stops_df[\"Description\"].str.contains(\"stn\", case=False)\n",
    "count_mrt = bus_stops_df[\"is_mrt\"].sum()\n",
    "print(f\"Number of Bus Stops linked to MRT stations: {count_mrt}\")\n",
    "percentage_mrt = count_mrt / total_bus_stops * 100\n",
    "print(f\"Percentage of Bus Stops linked to MRT stations: {percentage_mrt:.2f}%\")"
   ]
  }
 ],
 "metadata": {
  "kernelspec": {
   "display_name": "Python 3",
   "language": "python",
   "name": "python3"
  },
  "language_info": {
   "codemirror_mode": {
    "name": "ipython",
    "version": 3
   },
   "file_extension": ".py",
   "mimetype": "text/x-python",
   "name": "python",
   "nbconvert_exporter": "python",
   "pygments_lexer": "ipython3",
   "version": "3.12.2"
  }
 },
 "nbformat": 4,
 "nbformat_minor": 2
}
